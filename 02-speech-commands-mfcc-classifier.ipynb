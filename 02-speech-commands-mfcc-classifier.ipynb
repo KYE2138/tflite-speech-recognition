{
 "cells": [
  {
   "cell_type": "code",
   "execution_count": 1,
   "metadata": {},
   "outputs": [],
   "source": [
    "from os import listdir\n",
    "from os.path import isdir, join\n",
    "from tensorflow.keras import layers, models\n",
    "import tensorflow as tf\n",
    "import numpy as np"
   ]
  },
  {
   "cell_type": "code",
   "execution_count": 2,
   "metadata": {},
   "outputs": [
    {
     "name": "stdout",
     "output_type": "stream",
     "text": [
      "['nine', 'eight', 'bed', 'bird', 'no', 'house', 'go', 'zero', 'marvin', 'dog', 'off', 'happy', 'stop', 'left', 'two', 'yes', 'on', 'learn', 'three', 'wow', 'tree', 'cat', 'right', 'down', 'six', 'five', 'backward', 'sheila', 'one', 'up', 'follow', 'visual', 'forward', 'seven', 'four']\n"
     ]
    }
   ],
   "source": [
    "# Create list of all targets (minus background noise)\n",
    "# set dataset path\n",
    "dataset_path = './data_speech_commands_v002'\n",
    "all_targets = all_targets = [name for name in listdir(dataset_path) if isdir(join(dataset_path, name))]\n",
    "all_targets.remove('_background_noise_')\n",
    "print(all_targets)"
   ]
  },
  {
   "cell_type": "code",
   "execution_count": 3,
   "metadata": {},
   "outputs": [],
   "source": [
    "# Settings\n",
    "feature_sets_path = './'\n",
    "feature_sets_filename = 'all_targets_mfcc_sets.npz'\n",
    "model_filename = 'wake_word_stop_model.h5'\n",
    "wake_word = 'stop'"
   ]
  },
  {
   "cell_type": "code",
   "execution_count": 4,
   "metadata": {},
   "outputs": [
    {
     "name": "stdout",
     "output_type": "stream",
     "text": [
      "['x_train', 'y_train', 'x_val', 'y_val', 'x_test', 'y_test']\n"
     ]
    }
   ],
   "source": [
    "# Load feature sets\n",
    "feature_sets = np.load(join(feature_sets_path, feature_sets_filename))\n",
    "print(feature_sets.files)"
   ]
  },
  {
   "cell_type": "code",
   "execution_count": 5,
   "metadata": {},
   "outputs": [],
   "source": [
    "# Assign feature sets\n",
    "x_train = feature_sets['x_train']\n",
    "y_train = feature_sets['y_train']\n",
    "x_val = feature_sets['x_val']\n",
    "y_val = feature_sets['y_val']\n",
    "x_test = feature_sets['x_test']\n",
    "y_test = feature_sets['y_test']"
   ]
  },
  {
   "cell_type": "code",
   "execution_count": 6,
   "metadata": {},
   "outputs": [
    {
     "name": "stdout",
     "output_type": "stream",
     "text": [
      "(77497, 16, 16)\n",
      "(9670, 16, 16)\n",
      "(9689, 16, 16)\n"
     ]
    }
   ],
   "source": [
    "# Look at tensor dimensions\n",
    "print(x_train.shape)\n",
    "print(x_val.shape)\n",
    "print(x_test.shape)"
   ]
  },
  {
   "cell_type": "code",
   "execution_count": 7,
   "metadata": {},
   "outputs": [
    {
     "name": "stdout",
     "output_type": "stream",
     "text": [
      "[12. 34. 30. ... 19. 18. 32.]\n"
     ]
    }
   ],
   "source": [
    "# Peek at labels\n",
    "print(y_val)"
   ]
  },
  {
   "cell_type": "code",
   "execution_count": 8,
   "metadata": {},
   "outputs": [],
   "source": [
    "# Convert ground truth arrays to one wake word (1) and 'other' (0)\n",
    "wake_word_index = all_targets.index(wake_word)\n",
    "y_train = np.equal(y_train, wake_word_index).astype('float64')\n",
    "y_val = np.equal(y_val, wake_word_index).astype('float64')\n",
    "y_test = np.equal(y_test, wake_word_index).astype('float64')"
   ]
  },
  {
   "cell_type": "code",
   "execution_count": 9,
   "metadata": {},
   "outputs": [
    {
     "name": "stdout",
     "output_type": "stream",
     "text": [
      "[1. 0. 0. ... 0. 0. 0.]\n"
     ]
    }
   ],
   "source": [
    "# Peek at labels after conversion\n",
    "print(y_val)"
   ]
  },
  {
   "cell_type": "code",
   "execution_count": 10,
   "metadata": {},
   "outputs": [
    {
     "name": "stdout",
     "output_type": "stream",
     "text": [
      "0.03671147880041365\n",
      "0.9632885211995863\n"
     ]
    }
   ],
   "source": [
    "# What percentage of 'stop' appear in validation labels\n",
    "print(sum(y_val) / len(y_val))\n",
    "print(1 - sum(y_val) / len(y_val))"
   ]
  },
  {
   "cell_type": "code",
   "execution_count": 11,
   "metadata": {},
   "outputs": [
    {
     "name": "stdout",
     "output_type": "stream",
     "text": [
      "(77497, 16, 16)\n"
     ]
    }
   ],
   "source": [
    "# View the dimensions of our input data\n",
    "print(x_train.shape)"
   ]
  },
  {
   "cell_type": "code",
   "execution_count": 12,
   "metadata": {},
   "outputs": [
    {
     "name": "stdout",
     "output_type": "stream",
     "text": [
      "(77497, 16, 16, 1)\n",
      "(9670, 16, 16, 1)\n",
      "(9689, 16, 16, 1)\n"
     ]
    }
   ],
   "source": [
    "# CNN for TF expects (batch, height, width, channels)\n",
    "# So we reshape the input tensors with a \"color\" channel of 1\n",
    "x_train = x_train.reshape(x_train.shape[0], \n",
    "                          x_train.shape[1], \n",
    "                          x_train.shape[2], \n",
    "                          1)\n",
    "x_val = x_val.reshape(x_val.shape[0], \n",
    "                      x_val.shape[1], \n",
    "                      x_val.shape[2], \n",
    "                      1)\n",
    "x_test = x_test.reshape(x_test.shape[0], \n",
    "                        x_test.shape[1], \n",
    "                        x_test.shape[2], \n",
    "                        1)\n",
    "print(x_train.shape)\n",
    "print(x_val.shape)\n",
    "print(x_test.shape)"
   ]
  },
  {
   "cell_type": "code",
   "execution_count": 13,
   "metadata": {},
   "outputs": [
    {
     "name": "stdout",
     "output_type": "stream",
     "text": [
      "(16, 16, 1)\n"
     ]
    }
   ],
   "source": [
    "# Input shape for CNN is size of MFCC of 1 sample\n",
    "sample_shape = x_test.shape[1:]\n",
    "print(sample_shape)"
   ]
  },
  {
   "cell_type": "code",
   "execution_count": 14,
   "metadata": {},
   "outputs": [],
   "source": [
    "# Build model\n",
    "# Based on: https://www.geeksforgeeks.org/python-image-classification-using-keras/\n",
    "model = models.Sequential()\n",
    "model.add(layers.Conv2D(32, \n",
    "                        (2, 2), \n",
    "                        activation='relu',\n",
    "                        input_shape=sample_shape))\n",
    "model.add(layers.MaxPooling2D(pool_size=(2, 2)))\n",
    "\n",
    "model.add(layers.Conv2D(32, (2, 2), activation='relu'))\n",
    "model.add(layers.MaxPooling2D(pool_size=(2, 2)))\n",
    "\n",
    "model.add(layers.Conv2D(64, (2, 2), activation='relu'))\n",
    "model.add(layers.MaxPooling2D(pool_size=(2, 2)))\n",
    "\n",
    "# Classifier\n",
    "model.add(layers.Flatten())\n",
    "model.add(layers.Dense(64, activation='relu'))\n",
    "model.add(layers.Dropout(0.5))\n",
    "model.add(layers.Dense(1, activation='sigmoid'))"
   ]
  },
  {
   "cell_type": "code",
   "execution_count": 15,
   "metadata": {},
   "outputs": [
    {
     "name": "stdout",
     "output_type": "stream",
     "text": [
      "Model: \"sequential\"\n",
      "_________________________________________________________________\n",
      "Layer (type)                 Output Shape              Param #   \n",
      "=================================================================\n",
      "conv2d (Conv2D)              (None, 15, 15, 32)        160       \n",
      "_________________________________________________________________\n",
      "max_pooling2d (MaxPooling2D) (None, 7, 7, 32)          0         \n",
      "_________________________________________________________________\n",
      "conv2d_1 (Conv2D)            (None, 6, 6, 32)          4128      \n",
      "_________________________________________________________________\n",
      "max_pooling2d_1 (MaxPooling2 (None, 3, 3, 32)          0         \n",
      "_________________________________________________________________\n",
      "conv2d_2 (Conv2D)            (None, 2, 2, 64)          8256      \n",
      "_________________________________________________________________\n",
      "max_pooling2d_2 (MaxPooling2 (None, 1, 1, 64)          0         \n",
      "_________________________________________________________________\n",
      "flatten (Flatten)            (None, 64)                0         \n",
      "_________________________________________________________________\n",
      "dense (Dense)                (None, 64)                4160      \n",
      "_________________________________________________________________\n",
      "dropout (Dropout)            (None, 64)                0         \n",
      "_________________________________________________________________\n",
      "dense_1 (Dense)              (None, 1)                 65        \n",
      "=================================================================\n",
      "Total params: 16,769\n",
      "Trainable params: 16,769\n",
      "Non-trainable params: 0\n",
      "_________________________________________________________________\n"
     ]
    }
   ],
   "source": [
    "# Display model\n",
    "model.summary()"
   ]
  },
  {
   "cell_type": "code",
   "execution_count": 16,
   "metadata": {},
   "outputs": [],
   "source": [
    "# Add training parameters to model\n",
    "model.compile(loss='binary_crossentropy', \n",
    "              optimizer='rmsprop', \n",
    "              metrics=['acc'])"
   ]
  },
  {
   "cell_type": "code",
   "execution_count": 17,
   "metadata": {},
   "outputs": [
    {
     "name": "stdout",
     "output_type": "stream",
     "text": [
      "Epoch 1/30\n",
      "775/775 [==============================] - 5s 4ms/step - loss: 0.1154 - acc: 0.9665 - val_loss: 0.0732 - val_acc: 0.9796\n",
      "Epoch 2/30\n",
      "775/775 [==============================] - 3s 4ms/step - loss: 0.0726 - acc: 0.9772 - val_loss: 0.0864 - val_acc: 0.9758\n",
      "Epoch 3/30\n",
      "775/775 [==============================] - 3s 4ms/step - loss: 0.0613 - acc: 0.9807 - val_loss: 0.0798 - val_acc: 0.9774\n",
      "Epoch 4/30\n",
      "775/775 [==============================] - 3s 4ms/step - loss: 0.0561 - acc: 0.9828 - val_loss: 0.0534 - val_acc: 0.9839\n",
      "Epoch 5/30\n",
      "775/775 [==============================] - 3s 4ms/step - loss: 0.0519 - acc: 0.9842 - val_loss: 0.0506 - val_acc: 0.9850\n",
      "Epoch 6/30\n",
      "775/775 [==============================] - 3s 4ms/step - loss: 0.0514 - acc: 0.9845 - val_loss: 0.0636 - val_acc: 0.9853\n",
      "Epoch 7/30\n",
      "775/775 [==============================] - 3s 4ms/step - loss: 0.0518 - acc: 0.9844 - val_loss: 0.0544 - val_acc: 0.9839\n",
      "Epoch 8/30\n",
      "775/775 [==============================] - 3s 4ms/step - loss: 0.0525 - acc: 0.9847 - val_loss: 0.0542 - val_acc: 0.9871\n",
      "Epoch 00008: early stopping\n"
     ]
    }
   ],
   "source": [
    "# Train\n",
    "history = model.fit(x_train, \n",
    "                    y_train, \n",
    "                    epochs=30, \n",
    "                    batch_size=100, \n",
    "                    validation_data=(x_val, y_val),\n",
    "                    callbacks=tf.keras.callbacks.EarlyStopping(verbose=1, patience=3),)"
   ]
  },
  {
   "cell_type": "code",
   "execution_count": 18,
   "metadata": {},
   "outputs": [
    {
     "data": {
      "image/png": "[encoded data removed]",
      "text/plain": [
       "<Figure size 640x480 with 1 Axes>"
      ]
     },
     "metadata": {},
     "output_type": "display_data"
    },
    {
     "data": {
      "image/png": "[encoded data removed]",
      "text/plain": [
       "<Figure size 640x480 with 1 Axes>"
      ]
     },
     "metadata": {},
     "output_type": "display_data"
    }
   ],
   "source": [
    "# Plot results\n",
    "import matplotlib.pyplot as plt\n",
    "\n",
    "acc = history.history['acc']\n",
    "val_acc = history.history['val_acc']\n",
    "loss = history.history['loss']\n",
    "val_loss = history.history['val_loss']\n",
    "\n",
    "epochs = range(1, len(acc) + 1)\n",
    "\n",
    "plt.plot(epochs, acc, 'bo', label='Training acc')\n",
    "plt.plot(epochs, val_acc, 'b', label='Validation acc')\n",
    "plt.title('Training and validation accuracy')\n",
    "plt.legend()\n",
    "\n",
    "plt.figure()\n",
    "\n",
    "plt.plot(epochs, loss, 'bo', label='Training loss')\n",
    "plt.plot(epochs, val_loss, 'b', label='Validation loss')\n",
    "plt.title('Training and validation loss')\n",
    "plt.legend()\n",
    "\n",
    "plt.show()"
   ]
  },
  {
   "cell_type": "code",
   "execution_count": 19,
   "metadata": {},
   "outputs": [],
   "source": [
    "# Save the model as a file\n",
    "models.save_model(model, model_filename)"
   ]
  },
  {
   "cell_type": "code",
   "execution_count": 20,
   "metadata": {},
   "outputs": [
    {
     "name": "stdout",
     "output_type": "stream",
     "text": [
      "11\n",
      "25\n",
      "48\n",
      "70\n",
      "83\n",
      "90\n",
      "95\n",
      "123\n",
      "146\n",
      "187\n",
      "229\n",
      "238\n",
      "251\n",
      "305\n",
      "326\n",
      "353\n",
      "372\n",
      "405\n",
      "437\n",
      "440\n",
      "451\n",
      "453\n",
      "466\n",
      "468\n",
      "473\n",
      "480\n",
      "535\n",
      "540\n",
      "606\n",
      "677\n",
      "692\n",
      "704\n",
      "747\n",
      "771\n",
      "796\n",
      "818\n",
      "858\n",
      "860\n",
      "902\n",
      "1037\n",
      "1108\n",
      "1203\n",
      "1204\n",
      "1230\n",
      "1262\n",
      "1268\n",
      "1288\n",
      "1304\n",
      "1363\n",
      "1518\n",
      "1528\n",
      "1533\n",
      "1534\n",
      "1550\n",
      "1595\n",
      "1602\n",
      "1625\n",
      "1668\n",
      "1671\n",
      "1692\n",
      "1702\n",
      "1715\n",
      "1718\n",
      "1724\n",
      "1745\n",
      "1746\n",
      "1778\n",
      "1795\n",
      "1811\n",
      "1821\n",
      "1835\n",
      "1840\n",
      "1841\n",
      "1872\n",
      "1918\n",
      "1928\n",
      "1952\n",
      "2046\n",
      "2111\n",
      "2130\n",
      "2151\n",
      "2174\n",
      "2190\n",
      "2194\n",
      "2204\n",
      "2221\n",
      "2226\n",
      "2236\n",
      "2237\n",
      "2241\n",
      "2266\n",
      "2284\n",
      "2290\n",
      "2296\n",
      "2321\n",
      "2414\n",
      "2427\n",
      "2434\n",
      "2473\n",
      "2499\n",
      "2530\n",
      "2546\n",
      "2578\n",
      "2600\n",
      "2633\n",
      "2634\n",
      "2657\n",
      "2742\n",
      "2748\n",
      "2828\n",
      "2855\n",
      "2866\n",
      "2914\n",
      "2951\n",
      "2952\n",
      "2986\n",
      "3080\n",
      "3090\n",
      "3102\n",
      "3117\n",
      "3122\n",
      "3144\n",
      "3173\n",
      "3187\n",
      "3188\n",
      "3209\n",
      "3282\n",
      "3284\n",
      "3302\n",
      "3314\n",
      "3338\n",
      "3352\n",
      "3355\n",
      "3397\n",
      "3412\n",
      "3437\n",
      "3453\n",
      "3462\n",
      "3483\n",
      "3564\n",
      "3567\n",
      "3602\n",
      "3766\n",
      "3861\n",
      "3905\n",
      "3939\n",
      "3959\n",
      "3963\n",
      "4020\n",
      "4059\n",
      "4100\n",
      "4104\n",
      "4132\n",
      "4164\n",
      "4168\n",
      "4181\n",
      "4192\n",
      "4204\n",
      "4215\n",
      "4254\n",
      "4259\n",
      "4270\n",
      "4336\n",
      "4347\n",
      "4353\n",
      "4381\n",
      "4386\n",
      "4405\n",
      "4420\n",
      "4447\n",
      "4448\n",
      "4450\n",
      "4462\n",
      "4484\n",
      "4494\n",
      "4510\n",
      "4585\n",
      "4710\n",
      "4769\n",
      "4784\n",
      "4820\n",
      "4836\n",
      "4926\n",
      "4940\n",
      "4971\n",
      "4975\n",
      "4980\n",
      "5005\n",
      "5016\n",
      "5020\n",
      "5057\n",
      "5108\n",
      "5187\n",
      "5195\n",
      "5207\n",
      "5213\n",
      "5234\n",
      "5265\n",
      "5300\n",
      "5305\n",
      "5346\n",
      "5352\n",
      "5372\n",
      "5373\n",
      "5401\n",
      "5428\n",
      "5438\n",
      "5478\n",
      "5526\n",
      "5533\n",
      "5537\n",
      "5548\n",
      "5551\n",
      "5567\n",
      "5602\n",
      "5643\n",
      "5658\n",
      "5665\n",
      "5666\n",
      "5675\n",
      "5680\n",
      "5712\n",
      "5855\n",
      "5874\n",
      "5927\n",
      "5986\n",
      "5989\n",
      "6012\n",
      "6057\n",
      "6102\n",
      "6112\n",
      "6139\n",
      "6162\n",
      "6204\n",
      "6211\n",
      "6326\n",
      "6327\n",
      "6331\n",
      "6336\n",
      "6358\n",
      "6389\n",
      "6404\n",
      "6425\n",
      "6505\n",
      "6553\n",
      "6599\n",
      "6602\n",
      "6631\n",
      "6638\n",
      "6645\n",
      "6674\n",
      "6692\n",
      "6707\n",
      "6721\n",
      "6807\n",
      "6825\n",
      "6841\n",
      "6853\n",
      "6854\n",
      "6898\n",
      "6927\n",
      "6934\n",
      "6939\n",
      "6987\n",
      "7002\n",
      "7014\n",
      "7030\n",
      "7042\n",
      "7219\n",
      "7228\n",
      "7243\n",
      "7252\n",
      "7261\n",
      "7276\n",
      "7402\n",
      "7404\n",
      "7405\n",
      "7416\n",
      "7421\n",
      "7433\n",
      "7440\n",
      "7506\n",
      "7512\n",
      "7532\n",
      "7603\n",
      "7650\n",
      "7656\n",
      "7686\n",
      "7707\n",
      "7709\n",
      "7753\n",
      "7793\n",
      "7827\n",
      "7830\n",
      "7855\n",
      "7936\n",
      "7949\n",
      "7963\n",
      "7965\n",
      "7967\n",
      "8096\n",
      "8107\n",
      "8188\n",
      "8232\n",
      "8238\n",
      "8240\n",
      "8243\n",
      "8253\n",
      "8274\n",
      "8276\n",
      "8361\n",
      "8365\n",
      "8416\n",
      "8448\n",
      "8476\n",
      "8477\n",
      "8493\n",
      "8494\n",
      "8503\n",
      "8535\n",
      "8589\n",
      "8622\n",
      "8658\n",
      "8688\n",
      "8701\n",
      "8726\n",
      "8736\n",
      "8781\n",
      "8814\n",
      "8815\n",
      "8828\n",
      "8832\n",
      "8835\n",
      "8866\n",
      "8888\n",
      "8898\n",
      "8904\n",
      "8985\n",
      "9059\n",
      "9072\n",
      "9162\n",
      "9176\n",
      "9216\n",
      "9228\n",
      "9265\n",
      "9276\n",
      "9324\n",
      "9333\n",
      "9395\n",
      "9542\n",
      "9601\n",
      "9620\n",
      "9650\n",
      "9679\n"
     ]
    }
   ],
   "source": [
    "# See which are 'stop'\n",
    "for idx, y in enumerate(y_test):\n",
    "    if y == 1:\n",
    "        print(idx)"
   ]
  },
  {
   "cell_type": "code",
   "execution_count": 21,
   "metadata": {},
   "outputs": [
    {
     "name": "stdout",
     "output_type": "stream",
     "text": [
      "Answer: 0.0  Prediction: [[0.00018022]]\n",
      "Answer: 0.0  Prediction: [[2.1098183e-21]]\n",
      "Answer: 0.0  Prediction: [[8.325199e-07]]\n",
      "Answer: 0.0  Prediction: [[0.03403303]]\n",
      "Answer: 0.0  Prediction: [[6.1589423e-12]]\n",
      "Answer: 0.0  Prediction: [[0.00746522]]\n",
      "Answer: 0.0  Prediction: [[2.9688242e-06]]\n",
      "Answer: 0.0  Prediction: [[6.229349e-07]]\n",
      "Answer: 0.0  Prediction: [[2.9920914e-14]]\n",
      "Answer: 0.0  Prediction: [[0.01680346]]\n"
     ]
    }
   ],
   "source": [
    "# TEST: Load model and run it against test set\n",
    "model = models.load_model(model_filename)\n",
    "for i in range(100, 110):\n",
    "    print('Answer:', y_test[i], ' Prediction:', model.predict(np.expand_dims(x_test[i], 0)))"
   ]
  },
  {
   "cell_type": "code",
   "execution_count": 22,
   "metadata": {},
   "outputs": [
    {
     "name": "stdout",
     "output_type": "stream",
     "text": [
      "303/303 [==============================] - 1s 2ms/step - loss: 0.0551 - acc: 0.9872\n"
     ]
    },
    {
     "data": {
      "text/plain": [
       "[0.05506684631109238, 0.987201988697052]"
      ]
     },
     "execution_count": 22,
     "metadata": {},
     "output_type": "execute_result"
    }
   ],
   "source": [
    "# Evaluate model with test set\n",
    "model.evaluate(x=x_test, y=y_test)"
   ]
  },
  {
   "cell_type": "code",
   "execution_count": null,
   "metadata": {},
   "outputs": [],
   "source": []
  },
  {
   "cell_type": "code",
   "execution_count": null,
   "metadata": {},
   "outputs": [],
   "source": []
  }
 ],
 "metadata": {
  "kernelspec": {
   "display_name": "Python 3",
   "language": "python",
   "name": "python3"
  },
  "language_info": {
   "codemirror_mode": {
    "name": "ipython",
    "version": 3
   },
   "file_extension": ".py",
   "mimetype": "text/x-python",
   "name": "python",
   "nbconvert_exporter": "python",
   "pygments_lexer": "ipython3",
   "version": "3.8.10"
  }
 },
 "nbformat": 4,
 "nbformat_minor": 2
}
