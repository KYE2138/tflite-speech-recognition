{
 "cells": [
  {
   "cell_type": "code",
   "execution_count": 1,
   "metadata": {},
   "outputs": [],
   "source": [
    "from os import listdir\n",
    "from os.path import isdir, join\n",
    "from tensorflow.keras import layers, models\n",
    "import numpy as np"
   ]
  },
  {
   "cell_type": "code",
   "execution_count": 2,
   "metadata": {},
   "outputs": [
    {
     "name": "stdout",
     "output_type": "stream",
     "text": [
      "['nine', 'eight', 'bed', 'bird', 'no', 'house', 'go', 'zero', 'marvin', 'dog', 'off', 'happy', 'stop', 'left', 'two', 'yes', 'on', 'learn', 'three', 'wow', 'tree', 'cat', 'right', 'down', 'six', 'five', 'backward', 'sheila', 'one', 'up', 'follow', 'visual', 'forward', 'seven', 'four']\n"
     ]
    }
   ],
   "source": [
    "# Create list of all targets (minus background noise)\n",
    "# set dataset path\n",
    "dataset_path = './data_speech_commands_v002'\n",
    "all_targets = all_targets = [name for name in listdir(dataset_path) if isdir(join(dataset_path, name))]\n",
    "all_targets.remove('_background_noise_')\n",
    "print(all_targets)"
   ]
  },
  {
   "cell_type": "code",
   "execution_count": 23,
   "metadata": {},
   "outputs": [],
   "source": [
    "# Settings\n",
    "feature_sets_path = './'\n",
    "feature_sets_filename = 'all_targets_mfcc_sets.npz'\n",
    "model_filename = 'wake_word_house_model.h5'\n",
    "wake_word = 'house'"
   ]
  },
  {
   "cell_type": "code",
   "execution_count": 4,
   "metadata": {},
   "outputs": [
    {
     "name": "stdout",
     "output_type": "stream",
     "text": [
      "['x_train', 'y_train', 'x_val', 'y_val', 'x_test', 'y_test']\n"
     ]
    }
   ],
   "source": [
    "# Load feature sets\n",
    "feature_sets = np.load(join(feature_sets_path, feature_sets_filename))\n",
    "print(feature_sets.files)"
   ]
  },
  {
   "cell_type": "code",
   "execution_count": 5,
   "metadata": {},
   "outputs": [],
   "source": [
    "# Assign feature sets\n",
    "x_train = feature_sets['x_train']\n",
    "y_train = feature_sets['y_train']\n",
    "x_val = feature_sets['x_val']\n",
    "y_val = feature_sets['y_val']\n",
    "x_test = feature_sets['x_test']\n",
    "y_test = feature_sets['y_test']"
   ]
  },
  {
   "cell_type": "code",
   "execution_count": 6,
   "metadata": {},
   "outputs": [
    {
     "name": "stdout",
     "output_type": "stream",
     "text": [
      "(77497, 16, 16)\n",
      "(9670, 16, 16)\n",
      "(9689, 16, 16)\n"
     ]
    }
   ],
   "source": [
    "# Look at tensor dimensions\n",
    "print(x_train.shape)\n",
    "print(x_val.shape)\n",
    "print(x_test.shape)"
   ]
  },
  {
   "cell_type": "code",
   "execution_count": 7,
   "metadata": {},
   "outputs": [
    {
     "name": "stdout",
     "output_type": "stream",
     "text": [
      "[12. 34. 30. ... 19. 18. 32.]\n"
     ]
    }
   ],
   "source": [
    "# Peek at labels\n",
    "print(y_val)"
   ]
  },
  {
   "cell_type": "code",
   "execution_count": 8,
   "metadata": {},
   "outputs": [],
   "source": [
    "# Convert ground truth arrays to one wake word (1) and 'other' (0)\n",
    "wake_word_index = all_targets.index(wake_word)\n",
    "y_train = np.equal(y_train, wake_word_index).astype('float64')\n",
    "y_val = np.equal(y_val, wake_word_index).astype('float64')\n",
    "y_test = np.equal(y_test, wake_word_index).astype('float64')"
   ]
  },
  {
   "cell_type": "code",
   "execution_count": 9,
   "metadata": {},
   "outputs": [
    {
     "name": "stdout",
     "output_type": "stream",
     "text": [
      "[0. 0. 0. ... 0. 0. 0.]\n"
     ]
    }
   ],
   "source": [
    "# Peek at labels after conversion\n",
    "print(y_val)"
   ]
  },
  {
   "cell_type": "code",
   "execution_count": 10,
   "metadata": {},
   "outputs": [
    {
     "name": "stdout",
     "output_type": "stream",
     "text": [
      "0.02047569803516029\n",
      "0.9795243019648397\n"
     ]
    }
   ],
   "source": [
    "# What percentage of 'stop' appear in validation labels\n",
    "print(sum(y_val) / len(y_val))\n",
    "print(1 - sum(y_val) / len(y_val))"
   ]
  },
  {
   "cell_type": "code",
   "execution_count": 11,
   "metadata": {},
   "outputs": [
    {
     "name": "stdout",
     "output_type": "stream",
     "text": [
      "(77497, 16, 16)\n"
     ]
    }
   ],
   "source": [
    "# View the dimensions of our input data\n",
    "print(x_train.shape)"
   ]
  },
  {
   "cell_type": "code",
   "execution_count": 12,
   "metadata": {},
   "outputs": [
    {
     "name": "stdout",
     "output_type": "stream",
     "text": [
      "(77497, 16, 16, 1)\n",
      "(9670, 16, 16, 1)\n",
      "(9689, 16, 16, 1)\n"
     ]
    }
   ],
   "source": [
    "# CNN for TF expects (batch, height, width, channels)\n",
    "# So we reshape the input tensors with a \"color\" channel of 1\n",
    "x_train = x_train.reshape(x_train.shape[0], \n",
    "                          x_train.shape[1], \n",
    "                          x_train.shape[2], \n",
    "                          1)\n",
    "x_val = x_val.reshape(x_val.shape[0], \n",
    "                      x_val.shape[1], \n",
    "                      x_val.shape[2], \n",
    "                      1)\n",
    "x_test = x_test.reshape(x_test.shape[0], \n",
    "                        x_test.shape[1], \n",
    "                        x_test.shape[2], \n",
    "                        1)\n",
    "print(x_train.shape)\n",
    "print(x_val.shape)\n",
    "print(x_test.shape)"
   ]
  },
  {
   "cell_type": "code",
   "execution_count": 13,
   "metadata": {},
   "outputs": [
    {
     "name": "stdout",
     "output_type": "stream",
     "text": [
      "(16, 16, 1)\n"
     ]
    }
   ],
   "source": [
    "# Input shape for CNN is size of MFCC of 1 sample\n",
    "sample_shape = x_test.shape[1:]\n",
    "print(sample_shape)"
   ]
  },
  {
   "cell_type": "code",
   "execution_count": 14,
   "metadata": {},
   "outputs": [],
   "source": [
    "# Build model\n",
    "# Based on: https://www.geeksforgeeks.org/python-image-classification-using-keras/\n",
    "model = models.Sequential()\n",
    "model.add(layers.Conv2D(32, \n",
    "                        (2, 2), \n",
    "                        activation='relu',\n",
    "                        input_shape=sample_shape))\n",
    "model.add(layers.MaxPooling2D(pool_size=(2, 2)))\n",
    "\n",
    "model.add(layers.Conv2D(32, (2, 2), activation='relu'))\n",
    "model.add(layers.MaxPooling2D(pool_size=(2, 2)))\n",
    "\n",
    "model.add(layers.Conv2D(64, (2, 2), activation='relu'))\n",
    "model.add(layers.MaxPooling2D(pool_size=(2, 2)))\n",
    "\n",
    "# Classifier\n",
    "model.add(layers.Flatten())\n",
    "model.add(layers.Dense(64, activation='relu'))\n",
    "model.add(layers.Dropout(0.5))\n",
    "model.add(layers.Dense(1, activation='sigmoid'))"
   ]
  },
  {
   "cell_type": "code",
   "execution_count": 15,
   "metadata": {},
   "outputs": [
    {
     "name": "stdout",
     "output_type": "stream",
     "text": [
      "Model: \"sequential\"\n",
      "_________________________________________________________________\n",
      "Layer (type)                 Output Shape              Param #   \n",
      "=================================================================\n",
      "conv2d (Conv2D)              (None, 15, 15, 32)        160       \n",
      "_________________________________________________________________\n",
      "max_pooling2d (MaxPooling2D) (None, 7, 7, 32)          0         \n",
      "_________________________________________________________________\n",
      "conv2d_1 (Conv2D)            (None, 6, 6, 32)          4128      \n",
      "_________________________________________________________________\n",
      "max_pooling2d_1 (MaxPooling2 (None, 3, 3, 32)          0         \n",
      "_________________________________________________________________\n",
      "conv2d_2 (Conv2D)            (None, 2, 2, 64)          8256      \n",
      "_________________________________________________________________\n",
      "max_pooling2d_2 (MaxPooling2 (None, 1, 1, 64)          0         \n",
      "_________________________________________________________________\n",
      "flatten (Flatten)            (None, 64)                0         \n",
      "_________________________________________________________________\n",
      "dense (Dense)                (None, 64)                4160      \n",
      "_________________________________________________________________\n",
      "dropout (Dropout)            (None, 64)                0         \n",
      "_________________________________________________________________\n",
      "dense_1 (Dense)              (None, 1)                 65        \n",
      "=================================================================\n",
      "Total params: 16,769\n",
      "Trainable params: 16,769\n",
      "Non-trainable params: 0\n",
      "_________________________________________________________________\n"
     ]
    }
   ],
   "source": [
    "# Display model\n",
    "model.summary()"
   ]
  },
  {
   "cell_type": "code",
   "execution_count": 16,
   "metadata": {},
   "outputs": [],
   "source": [
    "# Add training parameters to model\n",
    "model.compile(loss='binary_crossentropy', \n",
    "              optimizer='rmsprop', \n",
    "              metrics=['acc'])"
   ]
  },
  {
   "cell_type": "code",
   "execution_count": 17,
   "metadata": {},
   "outputs": [
    {
     "name": "stdout",
     "output_type": "stream",
     "text": [
      "Epoch 1/30\n",
      "775/775 [==============================] - 5s 4ms/step - loss: 0.0719 - acc: 0.9810 - val_loss: 0.0388 - val_acc: 0.9888\n",
      "Epoch 2/30\n",
      "775/775 [==============================] - 3s 4ms/step - loss: 0.0400 - acc: 0.9879 - val_loss: 0.0408 - val_acc: 0.9897\n",
      "Epoch 3/30\n",
      "775/775 [==============================] - 3s 4ms/step - loss: 0.0327 - acc: 0.9909 - val_loss: 0.0290 - val_acc: 0.9915\n",
      "Epoch 4/30\n",
      "775/775 [==============================] - 3s 4ms/step - loss: 0.0311 - acc: 0.9912 - val_loss: 0.0389 - val_acc: 0.9909\n",
      "Epoch 5/30\n",
      "775/775 [==============================] - 3s 4ms/step - loss: 0.0313 - acc: 0.9918 - val_loss: 0.0543 - val_acc: 0.9870\n",
      "Epoch 6/30\n",
      "775/775 [==============================] - 3s 4ms/step - loss: 0.0324 - acc: 0.9919 - val_loss: 0.0442 - val_acc: 0.9917\n",
      "Epoch 7/30\n",
      "775/775 [==============================] - 3s 4ms/step - loss: 0.0326 - acc: 0.9918 - val_loss: 0.0527 - val_acc: 0.9913\n",
      "Epoch 8/30\n",
      "775/775 [==============================] - 3s 4ms/step - loss: 0.0344 - acc: 0.9917 - val_loss: 0.0737 - val_acc: 0.9925\n",
      "Epoch 9/30\n",
      "775/775 [==============================] - 3s 4ms/step - loss: 0.0345 - acc: 0.9916 - val_loss: 0.0806 - val_acc: 0.9926\n",
      "Epoch 10/30\n",
      "775/775 [==============================] - 3s 4ms/step - loss: 0.0382 - acc: 0.9914 - val_loss: 0.1060 - val_acc: 0.9905\n",
      "Epoch 11/30\n",
      "775/775 [==============================] - 3s 4ms/step - loss: 0.0361 - acc: 0.9920 - val_loss: 0.2041 - val_acc: 0.9902\n",
      "Epoch 12/30\n",
      "775/775 [==============================] - 3s 4ms/step - loss: 0.0353 - acc: 0.9918 - val_loss: 0.1443 - val_acc: 0.9926\n",
      "Epoch 13/30\n",
      "775/775 [==============================] - 3s 4ms/step - loss: 0.0356 - acc: 0.9921 - val_loss: 0.2404 - val_acc: 0.9915\n",
      "Epoch 14/30\n",
      "775/775 [==============================] - 3s 4ms/step - loss: 0.0377 - acc: 0.9917 - val_loss: 0.2140 - val_acc: 0.9917\n",
      "Epoch 15/30\n",
      "775/775 [==============================] - 3s 4ms/step - loss: 0.0343 - acc: 0.9923 - val_loss: 0.2954 - val_acc: 0.9913\n",
      "Epoch 16/30\n",
      "775/775 [==============================] - 3s 4ms/step - loss: 0.0344 - acc: 0.9922 - val_loss: 0.2581 - val_acc: 0.9910\n",
      "Epoch 17/30\n",
      "775/775 [==============================] - 3s 4ms/step - loss: 0.0356 - acc: 0.9924 - val_loss: 0.2916 - val_acc: 0.9915\n",
      "Epoch 18/30\n",
      "775/775 [==============================] - 3s 4ms/step - loss: 0.0341 - acc: 0.9925 - val_loss: 0.3967 - val_acc: 0.9898\n",
      "Epoch 19/30\n",
      "775/775 [==============================] - 3s 4ms/step - loss: 0.0323 - acc: 0.9925 - val_loss: 0.3820 - val_acc: 0.9922\n",
      "Epoch 20/30\n",
      "775/775 [==============================] - 3s 4ms/step - loss: 0.0305 - acc: 0.9928 - val_loss: 0.6660 - val_acc: 0.9900\n",
      "Epoch 21/30\n",
      "775/775 [==============================] - 3s 4ms/step - loss: 0.0339 - acc: 0.9926 - val_loss: 0.3587 - val_acc: 0.9928\n",
      "Epoch 22/30\n",
      "775/775 [==============================] - 3s 4ms/step - loss: 0.0334 - acc: 0.9927 - val_loss: 0.3964 - val_acc: 0.9886\n",
      "Epoch 23/30\n",
      "775/775 [==============================] - 3s 4ms/step - loss: 0.0357 - acc: 0.9924 - val_loss: 0.4217 - val_acc: 0.9921\n",
      "Epoch 24/30\n",
      "775/775 [==============================] - 3s 4ms/step - loss: 0.0349 - acc: 0.9922 - val_loss: 0.3451 - val_acc: 0.9923\n",
      "Epoch 25/30\n",
      "775/775 [==============================] - 3s 4ms/step - loss: 0.0370 - acc: 0.9921 - val_loss: 0.4428 - val_acc: 0.9925\n",
      "Epoch 26/30\n",
      "775/775 [==============================] - 3s 4ms/step - loss: 0.0333 - acc: 0.9923 - val_loss: 0.4948 - val_acc: 0.9915\n",
      "Epoch 27/30\n",
      "775/775 [==============================] - 3s 4ms/step - loss: 0.0352 - acc: 0.9923 - val_loss: 0.5616 - val_acc: 0.9932\n",
      "Epoch 28/30\n",
      "775/775 [==============================] - 3s 4ms/step - loss: 0.0401 - acc: 0.9924 - val_loss: 0.3638 - val_acc: 0.9893\n",
      "Epoch 29/30\n",
      "775/775 [==============================] - 3s 4ms/step - loss: 0.0451 - acc: 0.9923 - val_loss: 0.6332 - val_acc: 0.9920\n",
      "Epoch 30/30\n",
      "775/775 [==============================] - 3s 4ms/step - loss: 0.0369 - acc: 0.9922 - val_loss: 0.8046 - val_acc: 0.9906\n"
     ]
    }
   ],
   "source": [
    "# Train\n",
    "history = model.fit(x_train, \n",
    "                    y_train, \n",
    "                    epochs=30, \n",
    "                    batch_size=100, \n",
    "                    validation_data=(x_val, y_val),\n",
    "                    callbacks=tf.keras.callbacks.EarlyStopping(verbose=1, patience=3),)"
   ]
  },
  {
   "cell_type": "code",
   "execution_count": 18,
   "metadata": {},
   "outputs": [
    {
     "data": {
      "image/png": "[encoded data removed]",
      "text/plain": [
       "<Figure size 640x480 with 1 Axes>"
      ]
     },
     "metadata": {},
     "output_type": "display_data"
    },
    {
     "data": {
      "image/png": "[encoded data removed]",
      "text/plain": [
       "<Figure size 640x480 with 1 Axes>"
      ]
     },
     "metadata": {},
     "output_type": "display_data"
    }
   ],
   "source": [
    "# Plot results\n",
    "import matplotlib.pyplot as plt\n",
    "\n",
    "acc = history.history['acc']\n",
    "val_acc = history.history['val_acc']\n",
    "loss = history.history['loss']\n",
    "val_loss = history.history['val_loss']\n",
    "\n",
    "epochs = range(1, len(acc) + 1)\n",
    "\n",
    "plt.plot(epochs, acc, 'bo', label='Training acc')\n",
    "plt.plot(epochs, val_acc, 'b', label='Validation acc')\n",
    "plt.title('Training and validation accuracy')\n",
    "plt.legend()\n",
    "\n",
    "plt.figure()\n",
    "\n",
    "plt.plot(epochs, loss, 'bo', label='Training loss')\n",
    "plt.plot(epochs, val_loss, 'b', label='Validation loss')\n",
    "plt.title('Training and validation loss')\n",
    "plt.legend()\n",
    "\n",
    "plt.show()"
   ]
  },
  {
   "cell_type": "code",
   "execution_count": 24,
   "metadata": {},
   "outputs": [],
   "source": [
    "# Save the model as a file\n",
    "models.save_model(model, model_filename)"
   ]
  },
  {
   "cell_type": "code",
   "execution_count": 25,
   "metadata": {},
   "outputs": [
    {
     "name": "stdout",
     "output_type": "stream",
     "text": [
      "126\n",
      "134\n",
      "142\n",
      "160\n",
      "189\n",
      "194\n",
      "280\n",
      "310\n",
      "348\n",
      "400\n",
      "411\n",
      "420\n",
      "432\n",
      "512\n",
      "524\n",
      "568\n",
      "594\n",
      "633\n",
      "729\n",
      "741\n",
      "792\n",
      "872\n",
      "882\n",
      "899\n",
      "921\n",
      "933\n",
      "968\n",
      "1007\n",
      "1090\n",
      "1150\n",
      "1176\n",
      "1194\n",
      "1249\n",
      "1341\n",
      "1396\n",
      "1397\n",
      "1409\n",
      "1461\n",
      "1505\n",
      "1597\n",
      "1636\n",
      "1639\n",
      "1652\n",
      "1890\n",
      "1900\n",
      "1949\n",
      "1988\n",
      "1994\n",
      "2016\n",
      "2060\n",
      "2098\n",
      "2104\n",
      "2289\n",
      "2300\n",
      "2304\n",
      "2380\n",
      "2395\n",
      "2437\n",
      "2487\n",
      "2511\n",
      "2615\n",
      "2673\n",
      "2773\n",
      "2793\n",
      "2885\n",
      "2923\n",
      "2936\n",
      "3029\n",
      "3099\n",
      "3308\n",
      "3423\n",
      "3439\n",
      "3457\n",
      "3464\n",
      "3615\n",
      "3708\n",
      "3753\n",
      "3978\n",
      "4037\n",
      "4055\n",
      "4066\n",
      "4098\n",
      "4156\n",
      "4225\n",
      "4234\n",
      "4299\n",
      "4326\n",
      "4328\n",
      "4399\n",
      "4430\n",
      "4444\n",
      "4574\n",
      "4603\n",
      "4610\n",
      "4626\n",
      "4640\n",
      "4743\n",
      "4881\n",
      "4904\n",
      "4906\n",
      "5038\n",
      "5052\n",
      "5123\n",
      "5183\n",
      "5275\n",
      "5385\n",
      "5392\n",
      "5437\n",
      "5450\n",
      "5571\n",
      "5768\n",
      "5809\n",
      "5835\n",
      "5839\n",
      "5854\n",
      "5878\n",
      "5902\n",
      "6023\n",
      "6149\n",
      "6209\n",
      "6236\n",
      "6238\n",
      "6239\n",
      "6294\n",
      "6299\n",
      "6314\n",
      "6369\n",
      "6376\n",
      "6461\n",
      "6517\n",
      "6567\n",
      "6583\n",
      "6598\n",
      "6669\n",
      "6746\n",
      "6782\n",
      "6877\n",
      "6891\n",
      "6956\n",
      "7010\n",
      "7110\n",
      "7437\n",
      "7492\n",
      "7507\n",
      "7592\n",
      "7606\n",
      "7687\n",
      "7727\n",
      "7745\n",
      "7880\n",
      "7919\n",
      "7981\n",
      "7986\n",
      "8071\n",
      "8197\n",
      "8200\n",
      "8208\n",
      "8223\n",
      "8269\n",
      "8272\n",
      "8456\n",
      "8632\n",
      "8699\n",
      "8812\n",
      "8846\n",
      "8854\n",
      "8857\n",
      "8989\n",
      "9155\n",
      "9191\n",
      "9293\n",
      "9327\n",
      "9390\n",
      "9452\n",
      "9569\n",
      "9627\n",
      "9643\n",
      "9686\n"
     ]
    }
   ],
   "source": [
    "# See which are 'stop'\n",
    "for idx, y in enumerate(y_test):\n",
    "    if y == 1:\n",
    "        print(idx)"
   ]
  },
  {
   "cell_type": "code",
   "execution_count": 26,
   "metadata": {},
   "outputs": [
    {
     "name": "stdout",
     "output_type": "stream",
     "text": [
      "Answer: 0.0  Prediction: [[0.00833584]]\n",
      "Answer: 0.0  Prediction: [[2.4518694e-37]]\n",
      "Answer: 0.0  Prediction: [[1.3164771e-08]]\n",
      "Answer: 0.0  Prediction: [[0.0050909]]\n",
      "Answer: 0.0  Prediction: [[7.944579e-13]]\n",
      "Answer: 0.0  Prediction: [[0.00165166]]\n",
      "Answer: 0.0  Prediction: [[9.840335e-07]]\n",
      "Answer: 0.0  Prediction: [[1.2687778e-08]]\n",
      "Answer: 0.0  Prediction: [[1.6902439e-28]]\n",
      "Answer: 0.0  Prediction: [[0.00526339]]\n"
     ]
    }
   ],
   "source": [
    "# TEST: Load model and run it against test set\n",
    "model = models.load_model(model_filename)\n",
    "for i in range(100, 110):\n",
    "    print('Answer:', y_test[i], ' Prediction:', model.predict(np.expand_dims(x_test[i], 0)))"
   ]
  },
  {
   "cell_type": "code",
   "execution_count": 27,
   "metadata": {},
   "outputs": [
    {
     "name": "stdout",
     "output_type": "stream",
     "text": [
      "303/303 [==============================] - 1s 2ms/step - loss: 0.0418 - acc: 0.9925\n"
     ]
    },
    {
     "data": {
      "text/plain": [
       "[0.04177490621805191, 0.9924656748771667]"
      ]
     },
     "execution_count": 27,
     "metadata": {},
     "output_type": "execute_result"
    }
   ],
   "source": [
    "# Evaluate model with test set\n",
    "model.evaluate(x=x_test, y=y_test)"
   ]
  },
  {
   "cell_type": "code",
   "execution_count": null,
   "metadata": {},
   "outputs": [],
   "source": []
  },
  {
   "cell_type": "code",
   "execution_count": null,
   "metadata": {},
   "outputs": [],
   "source": []
  }
 ],
 "metadata": {
  "kernelspec": {
   "display_name": "Python 3",
   "language": "python",
   "name": "python3"
  },
  "language_info": {
   "codemirror_mode": {
    "name": "ipython",
    "version": 3
   },
   "file_extension": ".py",
   "mimetype": "text/x-python",
   "name": "python",
   "nbconvert_exporter": "python",
   "pygments_lexer": "ipython3",
   "version": "3.8.10"
  }
 },
 "nbformat": 4,
 "nbformat_minor": 2
}
